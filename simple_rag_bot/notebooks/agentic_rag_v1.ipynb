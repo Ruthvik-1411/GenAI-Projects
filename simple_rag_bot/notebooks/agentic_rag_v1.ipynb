{
  "cells": [
    {
      "cell_type": "markdown",
      "metadata": {},
      "source": [
        "This version adds on to the existing `simple_agentic_rag.ipynb` notebook. Major changes are,\n",
        "1. Improved rewrite logic. Rewriting happens at the beginning of the graph, instead of only for retreiver based questions.\n",
        "2. Addition of chit_chat module to handle simple chitchat."
      ]
    },
    {
      "cell_type": "markdown",
      "metadata": {
        "id": "mW9MwnF56b-0"
      },
      "source": [
        "### Setup"
      ]
    },
    {
      "cell_type": "code",
      "execution_count": 1,
      "metadata": {
        "colab": {
          "base_uri": "https://localhost:8080/"
        },
        "id": "8yPUUFMUKhdn",
        "outputId": "c04a8c36-8279-40e5-b267-8a045b402bef"
      },
      "outputs": [
        {
          "name": "stdout",
          "output_type": "stream",
          "text": [
            "  Preparing metadata (setup.py) ... \u001b[?25l\u001b[?25hdone\n",
            "\u001b[2K     \u001b[90m━━━━━━━━━━━━━━━━━━━━━━━━━━━━━━━━━━━━━━━━\u001b[0m \u001b[32m43.5/43.5 kB\u001b[0m \u001b[31m2.8 MB/s\u001b[0m eta \u001b[36m0:00:00\u001b[0m\n",
            "\u001b[2K   \u001b[90m━━━━━━━━━━━━━━━━━━━━━━━━━━━━━━━━━━━━━━━━\u001b[0m \u001b[32m20.0/20.0 MB\u001b[0m \u001b[31m76.0 MB/s\u001b[0m eta \u001b[36m0:00:00\u001b[0m\n",
            "\u001b[2K   \u001b[90m━━━━━━━━━━━━━━━━━━━━━━━━━━━━━━━━━━━━━━━━\u001b[0m \u001b[32m415.1/415.1 kB\u001b[0m \u001b[31m22.3 MB/s\u001b[0m eta \u001b[36m0:00:00\u001b[0m\n",
            "\u001b[2K   \u001b[90m━━━━━━━━━━━━━━━━━━━━━━━━━━━━━━━━━━━━━━━━\u001b[0m \u001b[32m131.5/131.5 kB\u001b[0m \u001b[31m9.6 MB/s\u001b[0m eta \u001b[36m0:00:00\u001b[0m\n",
            "\u001b[2K   \u001b[90m━━━━━━━━━━━━━━━━━━━━━━━━━━━━━━━━━━━━━━━━\u001b[0m \u001b[32m223.7/223.7 kB\u001b[0m \u001b[31m17.0 MB/s\u001b[0m eta \u001b[36m0:00:00\u001b[0m\n",
            "\u001b[2K   \u001b[90m━━━━━━━━━━━━━━━━━━━━━━━━━━━━━━━━━━━━━━━━\u001b[0m \u001b[32m1.4/1.4 MB\u001b[0m \u001b[31m55.8 MB/s\u001b[0m eta \u001b[36m0:00:00\u001b[0m\n",
            "\u001b[2K   \u001b[90m━━━━━━━━━━━━━━━━━━━━━━━━━━━━━━━━━━━━━━━━\u001b[0m \u001b[32m5.9/5.9 MB\u001b[0m \u001b[31m86.7 MB/s\u001b[0m eta \u001b[36m0:00:00\u001b[0m\n",
            "\u001b[2K   \u001b[90m━━━━━━━━━━━━━━━━━━━━━━━━━━━━━━━━━━━━━━━━\u001b[0m \u001b[32m42.0/42.0 kB\u001b[0m \u001b[31m2.5 MB/s\u001b[0m eta \u001b[36m0:00:00\u001b[0m\n",
            "\u001b[2K   \u001b[90m━━━━━━━━━━━━━━━━━━━━━━━━━━━━━━━━━━━━━━━━\u001b[0m \u001b[32m47.2/47.2 kB\u001b[0m \u001b[31m3.1 MB/s\u001b[0m eta \u001b[36m0:00:00\u001b[0m\n",
            "\u001b[2K   \u001b[90m━━━━━━━━━━━━━━━━━━━━━━━━━━━━━━━━━━━━━━━━\u001b[0m \u001b[32m45.2/45.2 MB\u001b[0m \u001b[31m13.9 MB/s\u001b[0m eta \u001b[36m0:00:00\u001b[0m\n",
            "\u001b[2K   \u001b[90m━━━━━━━━━━━━━━━━━━━━━━━━━━━━━━━━━━━━━━━━\u001b[0m \u001b[32m53.6/53.6 kB\u001b[0m \u001b[31m3.8 MB/s\u001b[0m eta \u001b[36m0:00:00\u001b[0m\n",
            "\u001b[2K   \u001b[90m━━━━━━━━━━━━━━━━━━━━━━━━━━━━━━━━━━━━━━━━\u001b[0m \u001b[32m223.6/223.6 kB\u001b[0m \u001b[31m15.4 MB/s\u001b[0m eta \u001b[36m0:00:00\u001b[0m\n",
            "\u001b[?25h  Building wheel for ratelimit (setup.py) ... \u001b[?25l\u001b[?25hdone\n",
            "\u001b[31mERROR: pip's dependency resolver does not currently take into account all the packages that are installed. This behaviour is the source of the following dependency conflicts.\n",
            "google-generativeai 0.8.4 requires google-ai-generativelanguage==0.6.15, but you have google-ai-generativelanguage 0.6.17 which is incompatible.\n",
            "langchain 0.3.23 requires langchain-core<1.0.0,>=0.3.51, but you have langchain-core 0.3.41 which is incompatible.\n",
            "langchain 0.3.23 requires langchain-text-splitters<1.0.0,>=0.3.8, but you have langchain-text-splitters 0.3.6 which is incompatible.\u001b[0m\u001b[31m\n",
            "\u001b[0m"
          ]
        }
      ],
      "source": [
        "# Install required packages\n",
        "!pip install -q pymupdf==1.25.3 \\\n",
        "                ratelimit==2.2.1\\\n",
        "                langchain-text-splitters==0.3.6 \\\n",
        "                langchain-core==0.3.41\\\n",
        "                langgraph==0.3.5\\\n",
        "                langchain-google-genai==2.0.11 \\\n",
        "                pymilvus==2.5.5"
      ]
    },
    {
      "cell_type": "markdown",
      "metadata": {
        "id": "WsC0SbfTezgE"
      },
      "source": [
        "#### Mount Drive"
      ]
    },
    {
      "cell_type": "code",
      "execution_count": 2,
      "metadata": {
        "colab": {
          "base_uri": "https://localhost:8080/"
        },
        "id": "FBTmiDr9LEcX",
        "outputId": "5f19a185-2b1a-42f3-f1c7-d4d6f8cfcd71"
      },
      "outputs": [
        {
          "name": "stdout",
          "output_type": "stream",
          "text": [
            "Mounted at /content/drive\n"
          ]
        }
      ],
      "source": [
        "from google.colab import drive\n",
        "drive.mount('/content/drive')"
      ]
    },
    {
      "cell_type": "markdown",
      "metadata": {
        "id": "ognLVOY5hNv6"
      },
      "source": [
        "#### Initialize required variables"
      ]
    },
    {
      "cell_type": "code",
      "execution_count": null,
      "metadata": {
        "id": "e5MHIuHwGku7"
      },
      "outputs": [],
      "source": [
        "GEMINI_API_KEY = \"YOUR-API-KEY\" #@param {type: \"string\"}"
      ]
    },
    {
      "cell_type": "code",
      "execution_count": 4,
      "metadata": {
        "id": "9mf7yZrPLLpf"
      },
      "outputs": [],
      "source": [
        "# Path to folder containing rag pdfs\n",
        "rag_files_path = \"/content/drive/MyDrive/GenAI_Expts/rag_datasets\""
      ]
    },
    {
      "cell_type": "code",
      "execution_count": 5,
      "metadata": {
        "id": "8cnpqRwL9860"
      },
      "outputs": [],
      "source": [
        "# Path to embeddings jsonl file (if created already), instead of chunking and creating embeddings all over again\n",
        "embeddings_path = \"/content/drive/MyDrive/GenAI_Expts/cleaned_embeddings.jsonl\""
      ]
    },
    {
      "cell_type": "markdown",
      "metadata": {
        "id": "-sI6D1D-e14m"
      },
      "source": [
        "#### Import Required Packages"
      ]
    },
    {
      "cell_type": "code",
      "execution_count": 6,
      "metadata": {
        "id": "7jhzpyj-LvJS"
      },
      "outputs": [],
      "source": [
        "import copy\n",
        "import fitz\n",
        "import json\n",
        "import time\n",
        "import uuid\n",
        "from tqdm import tqdm\n",
        "from os import listdir\n",
        "from os.path import isfile, join\n",
        "from ratelimit import limits, sleep_and_retry\n",
        "from typing import List, Annotated, Sequence\n",
        "from typing_extensions import TypedDict, Annotated\n",
        "from IPython.display import display, Markdown, Image"
      ]
    },
    {
      "cell_type": "code",
      "execution_count": 7,
      "metadata": {
        "id": "Fbs4RM83QPnA"
      },
      "outputs": [],
      "source": [
        "from langchain_text_splitters import RecursiveCharacterTextSplitter\n",
        "from langchain_google_genai import GoogleGenerativeAIEmbeddings, ChatGoogleGenerativeAI\n",
        "from langchain_core.output_parsers import StrOutputParser\n",
        "from langchain_core.prompts import ChatPromptTemplate, PromptTemplate, MessagesPlaceholder\n",
        "from langchain_core.tools import tool, InjectedToolArg\n",
        "from langchain_core.messages import BaseMessage, HumanMessage, AIMessage\n",
        "from langchain_core.messages.base import messages_to_dict\n",
        "\n",
        "from langgraph.graph.message import add_messages\n",
        "from langgraph.graph import END, StateGraph, START\n",
        "from langgraph.prebuilt import ToolNode\n",
        "\n",
        "from pymilvus import MilvusClient"
      ]
    },
    {
      "cell_type": "markdown",
      "metadata": {
        "id": "C8C0jrH5fJPA"
      },
      "source": [
        "#### Util functions to load content from drive"
      ]
    },
    {
      "cell_type": "code",
      "execution_count": 8,
      "metadata": {
        "id": "ApADlmbtmU5v"
      },
      "outputs": [],
      "source": [
        "def get_files_in_dir(path):\n",
        "  \"\"\"Get complete path of the pdf files in dir\"\"\"\n",
        "  files_list = []\n",
        "\n",
        "  for file in listdir(path):\n",
        "    file_path = join(path, file)\n",
        "    if file_path.endswith(\".pdf\") and isfile(file_path):\n",
        "      files_list.append(file_path)\n",
        "\n",
        "  return files_list"
      ]
    },
    {
      "cell_type": "code",
      "execution_count": 9,
      "metadata": {
        "id": "ha8vFvn5-Qbr"
      },
      "outputs": [],
      "source": [
        "def load_embeddings(path):\n",
        "  \"\"\"Load embeddings from jsonl file\"\"\"\n",
        "  with open(path, 'r') as json_file:\n",
        "    json_data = [json.loads(line) for line in json_file]\n",
        "\n",
        "  return json_data"
      ]
    },
    {
      "cell_type": "markdown",
      "metadata": {
        "id": "WC4p_C7jPkpU"
      },
      "source": [
        "### Chunking"
      ]
    },
    {
      "cell_type": "markdown",
      "metadata": {
        "id": "NhfQo5zXyvE5"
      },
      "source": [
        "Simple recursive text chunking that splits text into chunks of size 1000 and an overlap of 200 tokens.\n",
        "- The chunking done here, is the most simple one and works with pdf text, i.e. pdf containing machine readable text or digital text.\n",
        "- For pdf containing images or scanned content, another layer like OCR or custom parser should be used. Same applies if other types of files like ppt, docx etc are used.\n",
        "- Other chunking strategies like context aware chunking, Semantic chunking etc.\n",
        "\n",
        "To keep things simple, the most basic of basic chunking strategies were used."
      ]
    },
    {
      "cell_type": "code",
      "execution_count": null,
      "metadata": {
        "id": "yEw2gD0hcvxm"
      },
      "outputs": [],
      "source": [
        "class PDFTextSplitter:\n",
        "  \"\"\"Document splitter class for pdf text\"\"\"\n",
        "\n",
        "  def __init__(self, file_uri, chunk_size=1000, chunk_overlap=200):\n",
        "    \"\"\"Initialize text splitter with required params\"\"\"\n",
        "    self.file_uri = file_uri\n",
        "    self.chunk_size = chunk_size\n",
        "    self.chunk_overlap = chunk_overlap\n",
        "    self.text_splitter = RecursiveCharacterTextSplitter(\n",
        "        chunk_size=self.chunk_size,\n",
        "        chunk_overlap=self.chunk_overlap,\n",
        "        separators=[\"\\n\\n\", \"\\n\", \" \", \"\"],\n",
        "        length_function=len\n",
        "    )\n",
        "\n",
        "  def _clean_special_chars(self, text: str):\n",
        "    \"\"\"Remove special characters/unicodes in the text\"\"\"\n",
        "    cleaned_text = text.replace(\"\\t\\n\",\"\").replace(\"\\x08\\n\",\"\").replace(\"\\xa0\",\"\").replace(\"\\t\\r\",\"\").replace(\"\\uf0b7\",\"\")\n",
        "\n",
        "    return cleaned_text\n",
        "\n",
        "  def get_page_info(self, pdf_path: str):\n",
        "    \"\"\"Get full text content of pdf and page info\"\"\"\n",
        "    doc_id = str(uuid.uuid4())\n",
        "    full_text = \"\"\n",
        "    page_info = []\n",
        "\n",
        "    pdf_doc = fitz.open(pdf_path)\n",
        "\n",
        "    for page_num in range(pdf_doc.page_count):\n",
        "      page = pdf_doc[page_num]\n",
        "      text = page.get_text()\n",
        "      page_start_idx = len(full_text)\n",
        "      full_text += text\n",
        "      page_end_idx = len(full_text)\n",
        "      page_info.append({\n",
        "          \"doc_id\": doc_id,\n",
        "          \"page_id\": page_num,\n",
        "          \"page_number\": page_num + 1,\n",
        "          \"start_char_idx\": page_start_idx,\n",
        "          \"end_char_idx\": page_end_idx,\n",
        "      })\n",
        "    full_text = self._clean_special_chars(full_text)\n",
        "\n",
        "    return doc_id, full_text, page_info\n",
        "\n",
        "  def get_chunks_with_info(self, pdf_uri: str, pdf_text: str, page_info: list, doc_id: str):\n",
        "    \"\"\"Split pdf content to chunks and return metadata dict\"\"\"\n",
        "    chunks = []\n",
        "    text_chunks = self.text_splitter.split_text(pdf_text)\n",
        "\n",
        "    start_idx = 0\n",
        "    chunk_positions = []\n",
        "\n",
        "    # Find the chunk start and end index in the pdf text\n",
        "    for chunk in tqdm(text_chunks):\n",
        "      chunk_start = pdf_text.find(chunk, start_idx)\n",
        "      if chunk_start == -1:\n",
        "        continue\n",
        "\n",
        "      chunk_end = chunk_start + len(chunk)\n",
        "      chunk_positions.append((chunk_start, chunk_end))\n",
        "      start_idx = chunk_start + 1\n",
        "\n",
        "    # Identify which pages the chunk falls under, lowest and highest number of the page will be the page span\n",
        "    for i, (chunk, (start_pos, end_pos)) in enumerate(zip(text_chunks, chunk_positions)):\n",
        "      spanning_pages = []\n",
        "      for page in page_info:\n",
        "        if (start_pos < page[\"end_char_idx\"] and end_pos > page[\"start_char_idx\"]):\n",
        "          spanning_pages.append(page[\"page_number\"])\n",
        "\n",
        "      if not spanning_pages:\n",
        "        continue\n",
        "\n",
        "      chunk_data = {\n",
        "          \"doc_id\": doc_id,\n",
        "          \"chunk_id\": f\"{doc_id}/chunks/c{i}\",\n",
        "          \"content\": chunk,\n",
        "          \"page_span\": spanning_pages,\n",
        "          \"chunk_metadata\": {\n",
        "              \"start_char_idx\": start_pos,\n",
        "              \"end_char_idx\": end_pos\n",
        "          },\n",
        "          \"document_metadata\": {\n",
        "              \"url\": pdf_uri,\n",
        "              \"title\": pdf_uri.split(\"/\")[-1]\n",
        "          }\n",
        "      }\n",
        "\n",
        "      chunks.append(chunk_data)\n",
        "\n",
        "    return chunks\n",
        "\n",
        "  def process_documents(self, file_uri: list=[]):\n",
        "    \"\"\"Process documents to chunks\"\"\"\n",
        "    if not file_uri:\n",
        "      file_uri = self.file_uri\n",
        "\n",
        "    if not isinstance(file_uri, list):\n",
        "      file_uri = [file_uri]\n",
        "\n",
        "    chunked_file_data = []\n",
        "    for pdf_path in file_uri:\n",
        "      print(f\"Processing {pdf_path}\")\n",
        "      doc_id, pdf_text, page_info = self.get_page_info(pdf_path)\n",
        "      chunks_data = self.get_chunks_with_info(pdf_path, pdf_text, page_info, doc_id)\n",
        "      chunked_file_data.extend(chunks_data)\n",
        "\n",
        "    print(f\"Chunking completed for {pdf_path}.\")\n",
        "    return chunked_file_data"
      ]
    },
    {
      "cell_type": "code",
      "execution_count": null,
      "metadata": {
        "id": "VepEsWRofjlW"
      },
      "outputs": [],
      "source": [
        "document_splitter = PDFTextSplitter(rag_files_path)"
      ]
    },
    {
      "cell_type": "code",
      "execution_count": null,
      "metadata": {
        "id": "twddGb0wl16L"
      },
      "outputs": [],
      "source": [
        "all_files_list = get_files_in_dir(rag_files_path)"
      ]
    },
    {
      "cell_type": "code",
      "execution_count": null,
      "metadata": {
        "colab": {
          "base_uri": "https://localhost:8080/"
        },
        "id": "kUjwG2e2k1co",
        "outputId": "02e63653-16d8-4964-9856-427e7644decb"
      },
      "outputs": [
        {
          "name": "stdout",
          "output_type": "stream",
          "text": [
            "Processing /content/drive/MyDrive/GenAI_Expts/rag_datasets/Newwhitepaper_Agents2.pdf\n"
          ]
        },
        {
          "name": "stderr",
          "output_type": "stream",
          "text": [
            "100%|██████████| 60/60 [00:00<00:00, 106589.68it/s]\n"
          ]
        },
        {
          "name": "stdout",
          "output_type": "stream",
          "text": [
            "Processing /content/drive/MyDrive/GenAI_Expts/rag_datasets/Easy_recipes.pdf\n"
          ]
        },
        {
          "name": "stderr",
          "output_type": "stream",
          "text": [
            "100%|██████████| 16/16 [00:00<00:00, 41995.53it/s]\n"
          ]
        },
        {
          "name": "stdout",
          "output_type": "stream",
          "text": [
            "Processing /content/drive/MyDrive/GenAI_Expts/rag_datasets/Introduction_to_climate_change_FINAL_002.pdf\n"
          ]
        },
        {
          "name": "stderr",
          "output_type": "stream",
          "text": [
            "100%|██████████| 15/15 [00:00<00:00, 34211.29it/s]\n"
          ]
        },
        {
          "name": "stdout",
          "output_type": "stream",
          "text": [
            "Processing /content/drive/MyDrive/GenAI_Expts/rag_datasets/understanding-climate-change-2008.pdf\n"
          ]
        },
        {
          "name": "stderr",
          "output_type": "stream",
          "text": [
            "100%|██████████| 77/77 [00:00<00:00, 51247.45it/s]\n"
          ]
        },
        {
          "name": "stdout",
          "output_type": "stream",
          "text": [
            "Processing /content/drive/MyDrive/GenAI_Expts/rag_datasets/Understanding_Climate_Change.pdf\n"
          ]
        },
        {
          "name": "stderr",
          "output_type": "stream",
          "text": [
            "100%|██████████| 92/92 [00:00<00:00, 55426.02it/s]\n"
          ]
        },
        {
          "name": "stdout",
          "output_type": "stream",
          "text": [
            "Processing /content/drive/MyDrive/GenAI_Expts/rag_datasets/LLM Powered Autonomous Agents _ Lil'Log.pdf\n"
          ]
        },
        {
          "name": "stderr",
          "output_type": "stream",
          "text": [
            "100%|██████████| 45/45 [00:00<00:00, 100932.45it/s]\n"
          ]
        },
        {
          "name": "stdout",
          "output_type": "stream",
          "text": [
            "Processing /content/drive/MyDrive/GenAI_Expts/rag_datasets/20 Easy International Recipes.pdf\n"
          ]
        },
        {
          "name": "stderr",
          "output_type": "stream",
          "text": [
            "100%|██████████| 27/27 [00:00<00:00, 82241.25it/s]"
          ]
        },
        {
          "name": "stdout",
          "output_type": "stream",
          "text": [
            "Chunking completed for /content/drive/MyDrive/GenAI_Expts/rag_datasets/20 Easy International Recipes.pdf.\n"
          ]
        },
        {
          "name": "stderr",
          "output_type": "stream",
          "text": [
            "\n"
          ]
        }
      ],
      "source": [
        "all_docs_chunked_data = document_splitter.process_documents(all_files_list)"
      ]
    },
    {
      "cell_type": "code",
      "execution_count": null,
      "metadata": {
        "colab": {
          "base_uri": "https://localhost:8080/"
        },
        "collapsed": true,
        "id": "YBGeagmLj6n0",
        "outputId": "c4f25daa-143d-4a4c-eaba-979086fbe637"
      },
      "outputs": [
        {
          "data": {
            "text/plain": [
              "[{'doc_id': 'e436348e-a04d-4a66-b325-e7aca5259704',\n",
              "  'chunk_id': 'e436348e-a04d-4a66-b325-e7aca5259704/chunks/c0',\n",
              "  'content': 'Agents\\nAuthors: Julia Wiesinger, Patrick Marlow \\nand Vladimir Vuskovic\\nAgents\\n2\\nSeptember 2024\\nAcknowledgements\\nReviewers and Contributors\\nEvan Huang\\nEmily Xue\\nOlcan Sercinoglu\\nSebastian Riedel\\nSatinder Baveja\\nAntonio Gulli\\nAnant Nawalgaria\\nCurators and Editors\\nAntonio Gulli\\nAnant Nawalgaria\\nGrace Mollison \\nTechnical Writer\\nJoey Haymaker\\nDesigner\\nMichael Lanning \\nIntroduction4\\nWhat is an agent?5\\nThe model6\\nThe tools7\\nThe orchestration layer7\\nAgents vs. models8\\nCognitive architectures: How agents operate 8\\nTools: Our keys to the outside world12\\nExtensions 13\\nSample Extensions 15\\nFunctions 18\\nUse cases21\\nFunction sample code24\\nData stores27\\nImplementation and application28\\nTools recap32\\nEnhancing model performance with targeted learning33\\nAgent quick start with LangChain35\\nProduction applications with Vertex AI agents38\\nSummary40\\nEndnotes42\\nTable of contents\\nAgents\\n4\\nSeptember 2024\\nIntroduction\\nHumans are fantastic at messy pattern recognition tasks. However, they often rely on tools',\n",
              "  'page_span': [1, 2, 3, 4],\n",
              "  'chunk_metadata': {'start_char_idx': 0, 'end_char_idx': 996},\n",
              "  'document_metadata': {'url': '/content/drive/MyDrive/GenAI_Expts/rag_datasets/Newwhitepaper_Agents2.pdf',\n",
              "   'title': 'Newwhitepaper_Agents2.pdf'}},\n",
              " {'doc_id': 'e436348e-a04d-4a66-b325-e7aca5259704',\n",
              "  'chunk_id': 'e436348e-a04d-4a66-b325-e7aca5259704/chunks/c1',\n",
              "  'content': \"Summary40\\nEndnotes42\\nTable of contents\\nAgents\\n4\\nSeptember 2024\\nIntroduction\\nHumans are fantastic at messy pattern recognition tasks. However, they often rely on tools \\n- like books, Google Search, or a calculator - to supplement their prior knowledge before \\narriving at a conclusion. Just like humans, Generative AI models can be trained to use tools \\nto access real-time information or suggest a real-world action. For example, a model can \\nleverage a database retrieval tool to access specific information, like a customer's purchase \\nhistory, so it can generate tailored shopping recommendations. Alternatively, based on a \\nuser's query, a model can make various API calls to send an email response to a colleague \\nor complete a financial transaction on your behalf. To do so, the model must not only have \\naccess to a set of external tools, it needs the ability to plan and execute any task in a self-\\ndirected fashion. This combination of reasoning, logic, and access to external information\",\n",
              "  'page_span': [3, 4],\n",
              "  'chunk_metadata': {'start_char_idx': 830, 'end_char_idx': 1827},\n",
              "  'document_metadata': {'url': '/content/drive/MyDrive/GenAI_Expts/rag_datasets/Newwhitepaper_Agents2.pdf',\n",
              "   'title': 'Newwhitepaper_Agents2.pdf'}}]"
            ]
          },
          "execution_count": 22,
          "metadata": {},
          "output_type": "execute_result"
        }
      ],
      "source": [
        "# Seeing the chunk content\n",
        "all_docs_chunked_data[:2]"
      ]
    },
    {
      "cell_type": "markdown",
      "metadata": {
        "id": "-hSIWMP2Pm3n"
      },
      "source": [
        "### Embedding"
      ]
    },
    {
      "cell_type": "markdown",
      "metadata": {
        "id": "Uk1OzYWrCEZy"
      },
      "source": [
        "Local models\n",
        "- all-MiniLM-L6-v2 - faster and mostly accurate\n",
        "- all-mpnet-base-v2 - slightly better accuracy but slower\n",
        "\n",
        "API\n",
        "- Google, OpenAI, Above models with HF Token.\n",
        "\n",
        "Local models are difficult to run with current specs of my system, since the goal was to run this as an application. So only option is to use APIs, Google's embedding models as they are free and superior and get's the job done."
      ]
    },
    {
      "cell_type": "code",
      "execution_count": 10,
      "metadata": {
        "id": "EGwt_n-ynaPv"
      },
      "outputs": [],
      "source": [
        "class EmbeddingClient:\n",
        "  \"\"\"Custom class for embedding data with Gemini models\"\"\"\n",
        "  def __init__(self, model_name: str=\"models/text-embedding-004\", embedding_api_key: str=\"\"):\n",
        "    \"\"\"Initialize embedding client with required params\"\"\"\n",
        "    self.model_name = model_name\n",
        "    self.embedding_api_key = embedding_api_key\n",
        "    self.embedding_instance = GoogleGenerativeAIEmbeddings(model=self.model_name,\n",
        "                                                           google_api_key=self.embedding_api_key)\n",
        "\n",
        "  @sleep_and_retry\n",
        "  @limits(calls=120, period=60)\n",
        "  def _generate_embedding(self, chunk_content):\n",
        "    \"\"\"Helper function to generate embedding with rate limiting\"\"\"\n",
        "    try:\n",
        "      return self.embedding_instance.embed_query(chunk_content)\n",
        "    except Exception as e:\n",
        "      print(e)\n",
        "\n",
        "  def generate_embeddings(self, chunks_data):\n",
        "    \"\"\"Generate embeddings for content\"\"\"\n",
        "\n",
        "    embeddings_data = copy.deepcopy(chunks_data)\n",
        "\n",
        "    for chunk in tqdm(embeddings_data):\n",
        "      chunk_content = chunk[\"content\"]\n",
        "      chunk_embedding = chunk_embedding = self._generate_embedding(chunk_content)\n",
        "      chunk[\"chunk_embedding\"] = chunk_embedding\n",
        "\n",
        "    return embeddings_data\n",
        "\n",
        "  def get_query_embeddings(self, content: str):\n",
        "    \"\"\"Generate embeddings for query during runtime\"\"\"\n",
        "\n",
        "    query_embedding = self.embedding_instance.embed_query(text=content)\n",
        "\n",
        "    return query_embedding"
      ]
    },
    {
      "cell_type": "code",
      "execution_count": 10,
      "metadata": {
        "id": "74b9ZUzeoykE"
      },
      "outputs": [],
      "source": [
        "embedding_instance = EmbeddingClient(embedding_api_key=GEMINI_API_KEY)"
      ]
    },
    {
      "cell_type": "code",
      "execution_count": null,
      "metadata": {
        "colab": {
          "base_uri": "https://localhost:8080/"
        },
        "id": "WjEdQ7w8pj6C",
        "outputId": "b70ffb81-e885-43e5-a695-fbcd1871c88a"
      },
      "outputs": [
        {
          "name": "stderr",
          "output_type": "stream",
          "text": [
            "100%|██████████| 332/332 [02:11<00:00,  2.53it/s]\n"
          ]
        }
      ],
      "source": [
        "embeddings_data = embedding_instance.generate_embeddings(all_docs_chunked_data)"
      ]
    },
    {
      "cell_type": "code",
      "execution_count": null,
      "metadata": {
        "id": "WpSnuaeHytl8"
      },
      "outputs": [],
      "source": [
        "with open('cleaned_embeddings.jsonl', 'w') as outfile:\n",
        "  for entry in embeddings_data:\n",
        "      json.dump(entry, outfile)\n",
        "      outfile.write('\\n')"
      ]
    },
    {
      "cell_type": "markdown",
      "metadata": {
        "id": "a422iax-Pqx4"
      },
      "source": [
        "### Indexing data to VectorDB\n",
        "Embeddings can be loaded from the above process or directly from the drive.\n",
        "\n",
        "For experimentation, once the embeddings are created they are stored as jsonl file and saved in drive. The file can be loaded from next time to avoid chunking and embedding again."
      ]
    },
    {
      "cell_type": "code",
      "execution_count": 11,
      "metadata": {
        "id": "_W9i1Ln_-fJg"
      },
      "outputs": [],
      "source": [
        "embedding_data = load_embeddings(embeddings_path)"
      ]
    },
    {
      "cell_type": "code",
      "execution_count": 12,
      "metadata": {
        "colab": {
          "base_uri": "https://localhost:8080/"
        },
        "id": "Nf8ZaU0a_7Ly",
        "outputId": "68da1c7f-8513-4d1f-bd21-3e60a3d980b8"
      },
      "outputs": [
        {
          "data": {
            "text/plain": [
              "dict_keys(['doc_id', 'chunk_id', 'content', 'page_span', 'chunk_metadata', 'document_metadata', 'chunk_embedding'])"
            ]
          },
          "execution_count": 12,
          "metadata": {},
          "output_type": "execute_result"
        }
      ],
      "source": [
        "embedding_data[0].keys()"
      ]
    },
    {
      "cell_type": "markdown",
      "metadata": {
        "id": "-ve-FbxwwoqX"
      },
      "source": [
        "Milvus is a vector database know for it's speed and features. Some of the reasons for choosing Milvus over other vectore databases like ChromaDB,Qdrant etc are,\n",
        "- Getting familiar with production grade vector db. Although chromdb is simple and light, milvus is used in a lot of production projects. Mostly for it's scalability and features.\n",
        "- Metadata filtering and parsing - Milvus has better features when it comes to this.\n",
        "- Typical curiosity to use milvus, since i've experimented with chromadb and other vector db before."
      ]
    },
    {
      "cell_type": "code",
      "execution_count": 13,
      "metadata": {
        "id": "6xM_-U4CGFlh"
      },
      "outputs": [],
      "source": [
        "class CustomMilvusClient:\n",
        "  \"\"\"Custom class for Milvus Client to create, update and query a milvus collection\"\"\"\n",
        "  def __init__(self, uri: str):\n",
        "    self.uri = uri\n",
        "    self.milvus_client = MilvusClient(uri=self.uri)\n",
        "\n",
        "  def create_collection(self, collection_name: str=\"\", embedding_dimension: int=0, vector_field_name: str=\"\", primary_field_name: str=\"\", max_id_length: int=50):\n",
        "    \"\"\"Create collection with given fields into milvus vector db\"\"\"\n",
        "    if self.milvus_client.has_collection(collection_name):\n",
        "      print(f\"Collection with {collection_name} already exists. Over writing existing collection.\")\n",
        "      self.milvus_client.drop_collection(collection_name)\n",
        "\n",
        "    try:\n",
        "      self.milvus_client.create_collection(collection_name=collection_name,\n",
        "                                          dimension=embedding_dimension,\n",
        "                                          vector_field_name=vector_field_name,\n",
        "                                          metric_type=\"COSINE\",\n",
        "                                          primary_field_name=primary_field_name,\n",
        "                                          id_type=\"string\",\n",
        "                                          max_length=max_id_length)\n",
        "      print(f\"Collection '{collection_name}' successfully created.\")\n",
        "    except Exception as e:\n",
        "      print(e)\n",
        "\n",
        "  def insert_data_to_collection(self, collection_name: str=\"\", data: list=[]):\n",
        "    \"\"\"Insert data into created collection in milvus db\"\"\"\n",
        "    if self.milvus_client.has_collection(collection_name):\n",
        "      self.milvus_client.insert(collection_name=collection_name,\n",
        "                         data=data)\n",
        "      print(f\"Data successfully inserted to collection '{collection_name}'.\")\n",
        "    else:\n",
        "      raise ValueError(f\"Collection with name '{collection_name}' does not exist. Please insert into another or create a new collection using .create_collection.\")\n",
        "\n",
        "  def query_collection(self, collection_name: str=\"\", query_embedding: list=[], limit: int=5, output_fields: list=[]):\n",
        "    \"\"\"Get relevant docs based on similarity between query embedding and vectors in DB\"\"\"\n",
        "    start_time = time.time()\n",
        "    if self.milvus_client.has_collection(collection_name):\n",
        "      retriever_result = self.milvus_client.search(collection_name=collection_name,\n",
        "                                            data=[query_embedding],\n",
        "                                            limit=limit,\n",
        "                                            output_fields=output_fields)\n",
        "      end_time = time.time()\n",
        "      execution_time = end_time - start_time\n",
        "      print(f\"Retrieved in {execution_time:.6f}s.\")\n",
        "      return retriever_result\n",
        "    else:\n",
        "      raise ValueError(f\"Collection with {collection_name} does not exist. Please query on another collection or create a new collection using .create_collection.\")"
      ]
    },
    {
      "cell_type": "code",
      "execution_count": 14,
      "metadata": {
        "id": "FfWcjKYFriRG"
      },
      "outputs": [],
      "source": [
        "retriever_instance = CustomMilvusClient(uri=\"./my_milvus.db\")"
      ]
    },
    {
      "cell_type": "code",
      "execution_count": 15,
      "metadata": {
        "colab": {
          "base_uri": "https://localhost:8080/"
        },
        "id": "bi7528zsIm-6",
        "outputId": "a682786f-601f-4585-cdb5-2f0228612b5b"
      },
      "outputs": [
        {
          "name": "stdout",
          "output_type": "stream",
          "text": [
            "Collection 'pdfrag' successfully created.\n"
          ]
        }
      ],
      "source": [
        "retriever_instance.create_collection(collection_name=\"pdfrag\",\n",
        "                                     embedding_dimension=768,\n",
        "                                     vector_field_name=\"chunk_embedding\",\n",
        "                                     primary_field_name=\"chunk_id\")"
      ]
    },
    {
      "cell_type": "code",
      "execution_count": 16,
      "metadata": {
        "colab": {
          "base_uri": "https://localhost:8080/"
        },
        "id": "6tt0zz_XJXyU",
        "outputId": "6985205a-ce29-40ed-b44c-ad43c7811e70"
      },
      "outputs": [
        {
          "name": "stdout",
          "output_type": "stream",
          "text": [
            "Data successfully inserted to collection 'pdfrag'.\n"
          ]
        }
      ],
      "source": [
        "retriever_instance.insert_data_to_collection(collection_name=\"pdfrag\",\n",
        "                                             data=embedding_data)"
      ]
    },
    {
      "cell_type": "markdown",
      "metadata": {
        "id": "zcqhSmBG8GhH"
      },
      "source": [
        "### RAG"
      ]
    },
    {
      "cell_type": "markdown",
      "metadata": {
        "id": "uEyo5vzBg4Ab"
      },
      "source": [
        "#### Retriever Setup"
      ]
    },
    {
      "cell_type": "code",
      "execution_count": 17,
      "metadata": {
        "id": "zsEkK44yIiKq"
      },
      "outputs": [],
      "source": [
        "# Initalize retriever and embedding clients to use at runtime\n",
        "retriever_instance = CustomMilvusClient(uri=\"./my_milvus.db\")\n",
        "embedding_instance = EmbeddingClient(embedding_api_key=GEMINI_API_KEY)"
      ]
    },
    {
      "cell_type": "code",
      "execution_count": 18,
      "metadata": {
        "id": "BL1zjylW5r3Y"
      },
      "outputs": [],
      "source": [
        "def get_relevant_docs(collection_name: str, query: str, top_n: int=5):\n",
        "  \"\"\"Get relevant docs for a given query\"\"\"\n",
        "  query_embedding = embedding_instance.get_query_embeddings(content=query)\n",
        "\n",
        "  docs = retriever_instance.query_collection(collection_name=\"pdfrag\",\n",
        "                                             query_embedding=query_embedding,\n",
        "                                             limit=top_n,\n",
        "                                             output_fields=[\"content\", \"page_span\",\"document_metadata\"])\n",
        "\n",
        "  return docs"
      ]
    },
    {
      "cell_type": "code",
      "execution_count": 19,
      "metadata": {
        "id": "B5c8CYHDJvab"
      },
      "outputs": [],
      "source": [
        "query = \"Type of memory in agents?\""
      ]
    },
    {
      "cell_type": "code",
      "execution_count": 20,
      "metadata": {
        "colab": {
          "base_uri": "https://localhost:8080/"
        },
        "id": "WbjZ0mnTyKOD",
        "outputId": "de17bb66-23ee-4775-878f-44c141a9d31e"
      },
      "outputs": [
        {
          "name": "stdout",
          "output_type": "stream",
          "text": [
            "Retrieved in 0.167698s.\n"
          ]
        },
        {
          "data": {
            "text/plain": [
              "[{'id': 'd07b7f7d-40e7-4aaa-999f-c9d512146bf1/chunks/c14',\n",
              "  'distance': 0.6619677543640137,\n",
              "  'entity': {'content': 'experiences) and semantic memory (facts and concepts).\\nImplicit / procedural memory: This type of memory is unconscious and involves skills and\\nroutines that are performed automatically, like riding a bike or typing on a keyboard.\\nFig. 8. Categorization of human memory.\\nWe can roughly consider the following mappings:\\nSensory memory as learning embedding representations for raw inputs, including text,\\nimage or other modalities;\\nShort-term memory as in-context learning. It is short and finite, as it is restricted by the\\nfinite context window length of Transformer.\\nLong-term memory as the external vector store that the agent can attend to at query time,\\naccessible via fast retrieval.\\nMaximum Inner Product Search (MIPS)\\nThe external memory can alleviate the restriction of finite attention span. A standard practice is\\nto save the embedding representation of information into a vector store database that can',\n",
              "   'page_span': [7, 8],\n",
              "   'document_metadata': {'url': \"/content/drive/MyDrive/GenAI_Expts/rag_datasets/LLM Powered Autonomous Agents _ Lil'Log.pdf\",\n",
              "    'title': \"LLM Powered Autonomous Agents _ Lil'Log.pdf\"}}},\n",
              " {'id': 'd07b7f7d-40e7-4aaa-999f-c9d512146bf1/chunks/c1',\n",
              "  'distance': 0.6501352190971375,\n",
              "  'entity': {'content': 'Reflection and refinement: The agent can do self-criticism and self-reflection over past\\nactions, learn from mistakes and refine them for future steps, thereby improving the\\nquality of final results.\\nMemory\\nShort-term memory: I would consider all the in-context learning (See Prompt\\nEngineering) as utilizing short-term memory of the model to learn.\\nLong-term memory: This provides the agent with the capability to retain and recall\\n(infinite) information over extended periods, often by leveraging an external vector store\\nand fast retrieval.\\nTool use\\nThe agent learns to call external APIs for extra information that is missing from the model\\nweights (often hard to change after pre-training), including current information, code\\nexecution capability, access to proprietary information sources and more.\\nFig. 1. Overview of a LLM-powered autonomous agent system.\\nComponent One: Planning\\nA complicated task usually involves many steps. An agent needs to know what they are and\\nplan ahead.',\n",
              "   'page_span': [1, 2],\n",
              "   'document_metadata': {'url': \"/content/drive/MyDrive/GenAI_Expts/rag_datasets/LLM Powered Autonomous Agents _ Lil'Log.pdf\",\n",
              "    'title': \"LLM Powered Autonomous Agents _ Lil'Log.pdf\"}}},\n",
              " {'id': 'd07b7f7d-40e7-4aaa-999f-c9d512146bf1/chunks/c12',\n",
              "  'distance': 0.6440081596374512,\n",
              "  'entity': {'content': 'Fig. 7. Comparison of AD, ED, source policy and RL^2 on environments that\\nrequire memory and exploration. Only binary reward is assigned. The source\\npolicies are trained with A3C for \"dark\" environments and DQN for\\nwatermaze.\\n(Image source: Laskin et al. 2023)\\nComponent Two: Memory\\n(Big thank you to ChatGPT for helping me draft this section. I’ve learned a lot about the human\\nbrain and data structure for fast MIPS in my conversations with ChatGPT.)\\nTypes of Memory\\nMemory can be defined as the processes used to acquire, store, retain, and later retrieve\\ninformation. There are several types of memory in human brains.\\n1. Sensory Memory: This is the earliest stage of memory, providing the ability to retain\\nimpressions of sensory information (visual, auditory, etc) after the original stimuli have\\nended. Sensory memory typically only lasts for up to a few seconds. Subcategories include\\niconic memory (visual), echoic memory (auditory), and haptic memory (touch).',\n",
              "   'page_span': [6, 7],\n",
              "   'document_metadata': {'url': \"/content/drive/MyDrive/GenAI_Expts/rag_datasets/LLM Powered Autonomous Agents _ Lil'Log.pdf\",\n",
              "    'title': \"LLM Powered Autonomous Agents _ Lil'Log.pdf\"}}},\n",
              " {'id': 'd07b7f7d-40e7-4aaa-999f-c9d512146bf1/chunks/c31',\n",
              "  'distance': 0.6372724175453186,\n",
              "  'entity': {'content': 'inspired by The Sims. Generative agents create believable simulacra of human behavior for\\ninteractive applications.\\nThe design of generative agents combines LLM with memory, planning and reflection\\nmechanisms to enable agents to behave conditioned on past experience, as well as to interact\\nwith other agents.\\nMemory stream: is a long-term memory module (external database) that records a\\ncomprehensive list of agents’ experience in natural language.\\nEach element is an observation, an event directly provided by the agent. - Inter-agent\\ncommunication can trigger new natural language statements.\\nRetrieval model: surfaces the context to inform the agent’s behavior, according to\\nrelevance, recency and importance.\\nRecency: recent events have higher scores\\nImportance: distinguish mundane from core memories. Ask LM directly.\\nRelevance: based on how related it is to the current situation / query.\\nReflection mechanism: synthesizes memories into higher level inferences over time and',\n",
              "   'page_span': [15],\n",
              "   'document_metadata': {'url': \"/content/drive/MyDrive/GenAI_Expts/rag_datasets/LLM Powered Autonomous Agents _ Lil'Log.pdf\",\n",
              "    'title': \"LLM Powered Autonomous Agents _ Lil'Log.pdf\"}}},\n",
              " {'id': '51daf8d8-02f2-41a0-995c-a202f601d616/chunks/c3',\n",
              "  'distance': 0.6332048773765564,\n",
              "  'entity': {'content': 'attempts to achieve a goal by observing the world and acting upon it using the tools that it \\nhas at its disposal. Agents are autonomous and can act independently of human intervention, \\nespecially when provided with proper goals or objectives they are meant to achieve. Agents \\ncan also be proactive in their approach to reaching their goals. Even in the absence of \\nexplicit instruction sets from a human, an agent can reason about what it should do next to \\nachieve its ultimate goal. While the notion of agents in AI is quite general and powerful, this \\nwhitepaper focuses on the specific types of agents that Generative AI models are capable of \\nbuilding at the time of publication.\\nIn order to understand the inner workings of an agent, let’s first introduce the foundational \\ncomponents that drive the agent’s behavior, actions, and decision making. The combination \\nof these components can be described as a cognitive architecture, and there are many',\n",
              "   'page_span': [5],\n",
              "   'document_metadata': {'url': '/content/drive/MyDrive/GenAI_Expts/rag_datasets/Newwhitepaper_Agents2.pdf',\n",
              "    'title': 'Newwhitepaper_Agents2.pdf'}}}]"
            ]
          },
          "execution_count": 20,
          "metadata": {},
          "output_type": "execute_result"
        }
      ],
      "source": [
        "get_relevant_docs(\"pdf_rag\",query)[0]"
      ]
    },
    {
      "cell_type": "code",
      "execution_count": 21,
      "metadata": {
        "id": "PFkX9oWBLVq8"
      },
      "outputs": [],
      "source": [
        "def format_sources(relevant_docs: list):\n",
        "  \"\"\"Format relevant docs into consumable format by llm\"\"\"\n",
        "  sources = \"\"\n",
        "  for i, doc in enumerate(relevant_docs[0]):\n",
        "    sources += f\"<Source{i + 1}> {doc['entity']['content']} </Source{i + 1}>\\n\"\n",
        "\n",
        "  return sources\n",
        "\n",
        "def format_citations(relevant_docs: list):\n",
        "\n",
        "    citations = []\n",
        "    docs = relevant_docs[0]\n",
        "    for doc in docs:\n",
        "        citation_data = {}\n",
        "        citation_data[\"id\"] = doc[\"id\"]\n",
        "        citation_data[\"content\"] = doc[\"entity\"][\"content\"]\n",
        "        document = doc[\"entity\"][\"document_metadata\"]\n",
        "        citation_data[\"title\"] = document[\"title\"]\n",
        "        citation_data[\"url\"] = document[\"url\"] + \"#page=\" + str(min(doc[\"entity\"][\"page_span\"]))\n",
        "        citations.append(citation_data)\n",
        "\n",
        "    return citations\n",
        "\n",
        "def format_citations_to_md(citations: list):\n",
        "  \"\"\"Format citations to display\"\"\"\n",
        "  citation_str = \"\"\n",
        "  for citation in citations:\n",
        "    citation_str += f\"[{citation['title']}]({citation['url']})<br>\"\n",
        "\n",
        "  return citation_str"
      ]
    },
    {
      "cell_type": "code",
      "execution_count": 22,
      "metadata": {
        "colab": {
          "base_uri": "https://localhost:8080/",
          "height": 157
        },
        "id": "aU6jArLrMtj5",
        "outputId": "f072103f-1fa8-413c-80b8-9cdac12b4631"
      },
      "outputs": [
        {
          "name": "stdout",
          "output_type": "stream",
          "text": [
            "Retrieved in 0.004101s.\n"
          ]
        },
        {
          "data": {
            "application/vnd.google.colaboratory.intrinsic+json": {
              "type": "string"
            },
            "text/plain": [
              "\"<Source1> 1. Chilli con Carne \\n  \\n \\n \\nThis  was  one  of  the  first  easy \\nrecipes I learnt to cook and can be \\nmastered in just a few attempts! It’s \\nhealthy, cheap and tasty and makes \\nthe ultimate student food. You can \\nmake a large batch of this and then \\nstore in the fridge for days or freeze \\nfor weeks. \\n \\n \\nIngredients \\nGround/minced beef 500g \\n1 Large onion chopped \\n2-\\xad‐3 Cloves of Garlic \\n1-\\xad‐2 Tins of chopped tomatoes 400g \\nSqueeze of tomato puree \\n1 teaspoon of chilli powder (or to taste) \\n1 teaspoon of ground cumin \\ndash of Worcester sauce \\nSprinkle of salt and pepper \\n1 Chopped red pepper \\n1 tin of drained kidney beans 400g \\n \\nMethod \\n1) Fry the onion in a hot pan with oil until nearly brown then add chopped \\ngarlic \\n2) Add the mince and stir until brown -\\xad‐ drain any excess fat if desired \\n3) Add all dried spices and seasoning then reduce heat and add chopped \\ntomatoes \\n4) Stir well and add tomato puree and worcester sauce then leave to simmer </Source1>\\n<Source2> Quick and easy recipes \\n \\nStart cooking today! \\nYou can do it! \\n \\nCooking meals is much cheaper than eating outside. This is true everywhere \\nbut even more in Geneva... Take turns and cook for your roommate and your \\nfriends! You’ll save even more money – and the kitchen will probably stay \\ncleaner... \\n \\nI have selected only a few recipes from these websites: \\nhttp://www.studentrecipes.com/ \\nhttp://www.squidoo.com/studentfood#module55467342 \\n \\n \\nBon appétit! \\n \\nINDEX \\n1. Chili con carne \\n2. Beef in beer \\n3. Pad Thai Chicken \\n4. Thai Green Curry \\n5. Pineapple chicken \\n6. Vegetarian rice \\n7. Omelette \\n8. Egg fried rice \\n9. Salmon in the oven \\n10. \\nBasic pasta \\n11. \\nCarbonara al funghi \\n12. \\nSimple spaghetti bolognaise \\n13. \\nCucumber salad \\n14. \\nGoat cheese and Beetroot salad \\n \\n \\n \\n \\n \\n \\n \\n \\n \\n1. Chilli con Carne \\n  \\n \\n \\nThis  was  one  of  the  first  easy \\nrecipes I learnt to cook and can be \\nmastered in just a few attempts! It’s \\nhealthy, cheap and tasty and makes </Source2>\\n<Source3> 3) Add all dried spices and seasoning then reduce heat and add chopped \\ntomatoes \\n4) Stir well and add tomato puree and worcester sauce then leave to simmer \\nfor about an hour (less if you’re in a rush) \\n5) Add the chopped red pepper and continue to simmer for 5 mins, then add \\nthe tin of drained kidney beans and cook for a further 5 mins. If the chilli \\nbecome to dry at any point just add a bit of water. \\nServe with rice, jacket potatoes or pasta! \\n2. Beef in Beer \\n \\nIngredients \\n500g of cheap beef pieces (stewing steak usually is cheap) \\n500 mls of real ale \\n4 large onions \\n2 fat cloves of garlic \\ntbsp of plain flour \\nMethod \\nRaw beef, roll it in the flour...fry 4-\\xad‐5 pieces at a time in a hot saucepan to \\nseal...put to one side when all done \\n \\ncut the onions into quarters...fry in the same frying pan as the beef...to soak up \\nthe juices... \\n \\nTowards the end of frying the onion (they should be nicely brown round the \\nedges) throw in the smashed up cloves of garlic. </Source3>\\n<Source4> the juices... \\n \\nTowards the end of frying the onion (they should be nicely brown round the \\nedges) throw in the smashed up cloves of garlic. \\n \\nTransfer the beef, onions, garlic to a deep casserole dish. Stir in the remaining \\nflour \\n \\npour on the bottle of beer -\\xad‐ really, it isn't going to be wasted!!! \\n \\nCover, and cook at 150 for about 2 and a half hours...will be gorgeous when it \\ncomes out, trust me...serve with mash \\n \\n3. Pad Thai Chicken \\n4 servings \\nIngredients \\nEssential items: \\nRice noodles (can use another type of noodle but read packet instructions for \\nhow to cook) \\n2 chicken breasts \\nsalt and pepper \\n3 medium red chillis (chopped) \\n3 spring onions (chopped) \\n2 eggs \\nCorriander (if I don't have any corriander i substitute for some dried mint) \\n1 tbsp lemon juice \\n1 tbsp brown sugar \\n2 cloves of garlic (minced) \\n3 tbsp of fish sauce \\n \\nThe following ingredients aren't essential but if you can afford them they taste \\nfantastic in this dish \\n60g cooked shrimp </Source4>\\n<Source5> packaging guidelines. \\n12. Simple Spaghetti Bolognaise  \\nA Classic College Recipe -\\xad‐ Simplified \\nI have tried to make this dish as simple as \\npossible, as you get better you can add more ingredients -\\xad‐ try cooking on a \\nlower heat for longer if you have the time. \\n \\nIngredients \\n500g beef mince \\n1 tbsp olive oil \\n1 onion, finely chopped \\n1 cup beef stock \\nclove of garlic \\nCarrots, mushroom and celery (optional) \\n1 tsp dried mixed or Italian-\\xad‐style herbs \\nSquirt of tomato paste \\n1 x 425g passatta or chopped tomatoes \\n \\nMethod \\nHeat oil in a heavy-\\xad‐based pan and add onion, stirring over a moderate heat for \\n1-\\xad‐2 minutes. \\n \\nAdd mince, stirring constantly until well browned. \\n \\nStir in remaining ingredients. \\n \\nCover and simmer gently for about 30 minutes, or until cooked through (if \\nusing chopped tomatoes this will take a bit longer. \\n \\nServe with your favourite spaghetti, bread and salad. \\n \\n13. Cucumber salad \\nIngredients \\n1 cucumber, sliced \\n3 tbsp sugar </Source5>\\n\""
            ]
          },
          "execution_count": 22,
          "metadata": {},
          "output_type": "execute_result"
        }
      ],
      "source": [
        "format_sources(get_relevant_docs(\"pdfrag\",\"How to make chilli con carne\"))"
      ]
    },
    {
      "cell_type": "code",
      "execution_count": 23,
      "metadata": {
        "colab": {
          "base_uri": "https://localhost:8080/"
        },
        "id": "tIq2tXzrMx_e",
        "outputId": "4235910e-7674-4722-89e3-50cf202d099f"
      },
      "outputs": [
        {
          "name": "stdout",
          "output_type": "stream",
          "text": [
            "Retrieved in 0.003981s.\n"
          ]
        },
        {
          "data": {
            "text/plain": [
              "[{'id': '3158c1f0-40fd-4ad2-aa26-08032d4e1d17/chunks/c1',\n",
              "  'content': '1. Chilli con Carne \\n  \\n \\n \\nThis  was  one  of  the  first  easy \\nrecipes I learnt to cook and can be \\nmastered in just a few attempts! It’s \\nhealthy, cheap and tasty and makes \\nthe ultimate student food. You can \\nmake a large batch of this and then \\nstore in the fridge for days or freeze \\nfor weeks. \\n \\n \\nIngredients \\nGround/minced beef 500g \\n1 Large onion chopped \\n2-\\xad‐3 Cloves of Garlic \\n1-\\xad‐2 Tins of chopped tomatoes 400g \\nSqueeze of tomato puree \\n1 teaspoon of chilli powder (or to taste) \\n1 teaspoon of ground cumin \\ndash of Worcester sauce \\nSprinkle of salt and pepper \\n1 Chopped red pepper \\n1 tin of drained kidney beans 400g \\n \\nMethod \\n1) Fry the onion in a hot pan with oil until nearly brown then add chopped \\ngarlic \\n2) Add the mince and stir until brown -\\xad‐ drain any excess fat if desired \\n3) Add all dried spices and seasoning then reduce heat and add chopped \\ntomatoes \\n4) Stir well and add tomato puree and worcester sauce then leave to simmer',\n",
              "  'title': 'Easy_recipes.pdf',\n",
              "  'url': '/content/drive/MyDrive/GenAI_Expts/rag_datasets/Easy_recipes.pdf#page=2'},\n",
              " {'id': '3158c1f0-40fd-4ad2-aa26-08032d4e1d17/chunks/c0',\n",
              "  'content': 'Quick and easy recipes \\n \\nStart cooking today! \\nYou can do it! \\n \\nCooking meals is much cheaper than eating outside. This is true everywhere \\nbut even more in Geneva... Take turns and cook for your roommate and your \\nfriends! You’ll save even more money – and the kitchen will probably stay \\ncleaner... \\n \\nI have selected only a few recipes from these websites: \\nhttp://www.studentrecipes.com/ \\nhttp://www.squidoo.com/studentfood#module55467342 \\n \\n \\nBon appétit! \\n \\nINDEX \\n1. Chili con carne \\n2. Beef in beer \\n3. Pad Thai Chicken \\n4. Thai Green Curry \\n5. Pineapple chicken \\n6. Vegetarian rice \\n7. Omelette \\n8. Egg fried rice \\n9. Salmon in the oven \\n10. \\nBasic pasta \\n11. \\nCarbonara al funghi \\n12. \\nSimple spaghetti bolognaise \\n13. \\nCucumber salad \\n14. \\nGoat cheese and Beetroot salad \\n \\n \\n \\n \\n \\n \\n \\n \\n \\n1. Chilli con Carne \\n  \\n \\n \\nThis  was  one  of  the  first  easy \\nrecipes I learnt to cook and can be \\nmastered in just a few attempts! It’s \\nhealthy, cheap and tasty and makes',\n",
              "  'title': 'Easy_recipes.pdf',\n",
              "  'url': '/content/drive/MyDrive/GenAI_Expts/rag_datasets/Easy_recipes.pdf#page=1'},\n",
              " {'id': '3158c1f0-40fd-4ad2-aa26-08032d4e1d17/chunks/c2',\n",
              "  'content': '3) Add all dried spices and seasoning then reduce heat and add chopped \\ntomatoes \\n4) Stir well and add tomato puree and worcester sauce then leave to simmer \\nfor about an hour (less if you’re in a rush) \\n5) Add the chopped red pepper and continue to simmer for 5 mins, then add \\nthe tin of drained kidney beans and cook for a further 5 mins. If the chilli \\nbecome to dry at any point just add a bit of water. \\nServe with rice, jacket potatoes or pasta! \\n2. Beef in Beer \\n \\nIngredients \\n500g of cheap beef pieces (stewing steak usually is cheap) \\n500 mls of real ale \\n4 large onions \\n2 fat cloves of garlic \\ntbsp of plain flour \\nMethod \\nRaw beef, roll it in the flour...fry 4-\\xad‐5 pieces at a time in a hot saucepan to \\nseal...put to one side when all done \\n \\ncut the onions into quarters...fry in the same frying pan as the beef...to soak up \\nthe juices... \\n \\nTowards the end of frying the onion (they should be nicely brown round the \\nedges) throw in the smashed up cloves of garlic.',\n",
              "  'title': 'Easy_recipes.pdf',\n",
              "  'url': '/content/drive/MyDrive/GenAI_Expts/rag_datasets/Easy_recipes.pdf#page=3'},\n",
              " {'id': '3158c1f0-40fd-4ad2-aa26-08032d4e1d17/chunks/c3',\n",
              "  'content': \"the juices... \\n \\nTowards the end of frying the onion (they should be nicely brown round the \\nedges) throw in the smashed up cloves of garlic. \\n \\nTransfer the beef, onions, garlic to a deep casserole dish. Stir in the remaining \\nflour \\n \\npour on the bottle of beer -\\xad‐ really, it isn't going to be wasted!!! \\n \\nCover, and cook at 150 for about 2 and a half hours...will be gorgeous when it \\ncomes out, trust me...serve with mash \\n \\n3. Pad Thai Chicken \\n4 servings \\nIngredients \\nEssential items: \\nRice noodles (can use another type of noodle but read packet instructions for \\nhow to cook) \\n2 chicken breasts \\nsalt and pepper \\n3 medium red chillis (chopped) \\n3 spring onions (chopped) \\n2 eggs \\nCorriander (if I don't have any corriander i substitute for some dried mint) \\n1 tbsp lemon juice \\n1 tbsp brown sugar \\n2 cloves of garlic (minced) \\n3 tbsp of fish sauce \\n \\nThe following ingredients aren't essential but if you can afford them they taste \\nfantastic in this dish \\n60g cooked shrimp\",\n",
              "  'title': 'Easy_recipes.pdf',\n",
              "  'url': '/content/drive/MyDrive/GenAI_Expts/rag_datasets/Easy_recipes.pdf#page=3'},\n",
              " {'id': '3158c1f0-40fd-4ad2-aa26-08032d4e1d17/chunks/c14',\n",
              "  'content': 'packaging guidelines. \\n12. Simple Spaghetti Bolognaise  \\nA Classic College Recipe -\\xad‐ Simplified \\nI have tried to make this dish as simple as \\npossible, as you get better you can add more ingredients -\\xad‐ try cooking on a \\nlower heat for longer if you have the time. \\n \\nIngredients \\n500g beef mince \\n1 tbsp olive oil \\n1 onion, finely chopped \\n1 cup beef stock \\nclove of garlic \\nCarrots, mushroom and celery (optional) \\n1 tsp dried mixed or Italian-\\xad‐style herbs \\nSquirt of tomato paste \\n1 x 425g passatta or chopped tomatoes \\n \\nMethod \\nHeat oil in a heavy-\\xad‐based pan and add onion, stirring over a moderate heat for \\n1-\\xad‐2 minutes. \\n \\nAdd mince, stirring constantly until well browned. \\n \\nStir in remaining ingredients. \\n \\nCover and simmer gently for about 30 minutes, or until cooked through (if \\nusing chopped tomatoes this will take a bit longer. \\n \\nServe with your favourite spaghetti, bread and salad. \\n \\n13. Cucumber salad \\nIngredients \\n1 cucumber, sliced \\n3 tbsp sugar',\n",
              "  'title': 'Easy_recipes.pdf',\n",
              "  'url': '/content/drive/MyDrive/GenAI_Expts/rag_datasets/Easy_recipes.pdf#page=9'}]"
            ]
          },
          "execution_count": 23,
          "metadata": {},
          "output_type": "execute_result"
        }
      ],
      "source": [
        "format_citations(get_relevant_docs(\"pdfrag\",\"How to make chilli con carne\"))"
      ]
    },
    {
      "cell_type": "code",
      "execution_count": 24,
      "metadata": {
        "colab": {
          "base_uri": "https://localhost:8080/",
          "height": 133
        },
        "id": "4z4_jjj3SY_Z",
        "outputId": "fba3c604-fa03-4677-a458-465f948d5ee6"
      },
      "outputs": [
        {
          "name": "stdout",
          "output_type": "stream",
          "text": [
            "Retrieved in 0.004618s.\n"
          ]
        },
        {
          "data": {
            "text/markdown": [
              "[Easy_recipes.pdf](/content/drive/MyDrive/GenAI_Expts/rag_datasets/Easy_recipes.pdf#page=2)<br>[Easy_recipes.pdf](/content/drive/MyDrive/GenAI_Expts/rag_datasets/Easy_recipes.pdf#page=1)<br>[Easy_recipes.pdf](/content/drive/MyDrive/GenAI_Expts/rag_datasets/Easy_recipes.pdf#page=3)<br>[Easy_recipes.pdf](/content/drive/MyDrive/GenAI_Expts/rag_datasets/Easy_recipes.pdf#page=3)<br>[Easy_recipes.pdf](/content/drive/MyDrive/GenAI_Expts/rag_datasets/Easy_recipes.pdf#page=9)<br>"
            ],
            "text/plain": [
              "<IPython.core.display.Markdown object>"
            ]
          },
          "metadata": {},
          "output_type": "display_data"
        }
      ],
      "source": [
        "display(Markdown(format_citations_to_md(format_citations(get_relevant_docs(\"pdfrag\",\"How to make chilli con carne\")))))"
      ]
    },
    {
      "cell_type": "markdown",
      "metadata": {
        "id": "9aVT-n2Kg7bT"
      },
      "source": [
        "#### Intialize LLM"
      ]
    },
    {
      "cell_type": "code",
      "execution_count": 25,
      "metadata": {
        "id": "rqRI6mKzQFLk"
      },
      "outputs": [],
      "source": [
        "LLM_CONFIGS = {\n",
        "    \"gemini-1.5-flash\": {\n",
        "        \"model\": \"gemini-1.5-flash-002\",\n",
        "        \"max_output_tokens\": 1024,\n",
        "        \"temperature\": 0.0,\n",
        "    },\n",
        "    \"gemini-1.5-pro\": {\n",
        "        \"model\": \"gemini-1.5-pro-002\",\n",
        "        \"max_output_tokens\": 1024,\n",
        "        \"temperature\": 1.0,\n",
        "    },\n",
        "    \"gemini-2.0-flash\": {\n",
        "        \"model\": \"gemini-2.0-flash-001\",\n",
        "        \"max_output_tokens\": 1024,\n",
        "        \"temperature\": 0.0,\n",
        "    }\n",
        "}"
      ]
    },
    {
      "cell_type": "code",
      "execution_count": 26,
      "metadata": {
        "id": "RhBZAkm1vib_"
      },
      "outputs": [],
      "source": [
        "chat_model = ChatGoogleGenerativeAI(**LLM_CONFIGS[\"gemini-2.0-flash\"],google_api_key=GEMINI_API_KEY)"
      ]
    },
    {
      "cell_type": "markdown",
      "metadata": {
        "id": "PJE6twGwg9-H"
      },
      "source": [
        "#### Prompts"
      ]
    },
    {
      "cell_type": "code",
      "execution_count": 27,
      "metadata": {
        "id": "DChOJU5Dl3RC"
      },
      "outputs": [],
      "source": [
        "router_template = \"\"\"You are a helpful assitant whose purpose is to help users with their queries.\n",
        "Given user question and previous conversation history, utlize the appropriate tools where required to help them.\n",
        "Understand the user question and identify which tools are more suitable to help them and use it accordingly.\n",
        "\n",
        "Conversation history:\n",
        "\"\"\"\n",
        "router_prompt = ChatPromptTemplate.from_messages([\n",
        "    (\"system\", router_template),\n",
        "    MessagesPlaceholder(variable_name=\"chat_history\"),\n",
        "    (\"user\", \"{user_query}\"),\n",
        "])"
      ]
    },
    {
      "cell_type": "code",
      "execution_count": 28,
      "metadata": {
        "id": "0fyfTYcvKoEk"
      },
      "outputs": [],
      "source": [
        "rag_template = \"\"\"You are a friendly and helpful chat bot. Your role is to help users by answering questions based on the sources provided.\n",
        "Maintain a friendly and supportive tone while providing accurate and helpful responses. Utilize the provided conversation history to understand previous interactions.\n",
        "Based on the sources generate a clear answer to user's question. Avoid adding any other explanation.\n",
        "\n",
        "Sources: {sources}\n",
        "\n",
        "Conversation History:\n",
        "\"\"\"\n",
        "rag_prompt = ChatPromptTemplate.from_messages([\n",
        "    (\"system\", rag_template),\n",
        "    MessagesPlaceholder(variable_name=\"chat_history\"),\n",
        "    (\"user\", \"{user_query}\"),\n",
        "])\n",
        "rag_chain = rag_prompt | chat_model | StrOutputParser()"
      ]
    },
    {
      "cell_type": "code",
      "execution_count": 29,
      "metadata": {
        "id": "AmJn0LyEj52T"
      },
      "outputs": [],
      "source": [
        "chitchat_template = \"\"\"You are a friendly and helpful chat bot named ash. Your role is to help users by handling simple chitchat like hi, bye, thanks etc.\n",
        "Maintain a friendly and supportive tone while providing accurate and helpful responses. Utilize the provided conversation history to understand previous interactions.\n",
        "Respond appropriately to the user message, and always assure them that you are here to help.\n",
        "\n",
        "Conversation History:\n",
        "\"\"\"\n",
        "chitchat_prompt = ChatPromptTemplate.from_messages([\n",
        "    (\"system\", chitchat_template),\n",
        "    MessagesPlaceholder(variable_name=\"chat_history\"),\n",
        "    (\"user\", \"{user_query}\"),\n",
        "])\n",
        "chitchat_chain = chitchat_prompt | chat_model | StrOutputParser()"
      ]
    },
    {
      "cell_type": "code",
      "execution_count": null,
      "metadata": {
        "id": "w-g7DD64vBy_"
      },
      "outputs": [],
      "source": [
        "# Prompt for rewriting query based on previous history\n",
        "# Prompt can be improved\n",
        "query_rewrite_template = \"\"\"Given the following conversation history and user followup question, rephrase the user query to be a standalone question.\n",
        "The rephrased question should be understood without the chat history and should be meaningful and complete on its own.\n",
        "Make sure that the rephrased question has all the details to be complete on it's own.\n",
        "\n",
        "If the query is independent and is not related to the chat history, then return it as is without modifications. In any other case, rephrase the query.\n",
        "If the followup is not a question, but a statement, then return it as is without modifications.\n",
        "Avoid generating a response to the followup, your role is only to rephrase the input based on history.\n",
        "\n",
        "Chat history:\n",
        "\"\"\"\n",
        "query_rewrite_prompt = ChatPromptTemplate.from_messages([\n",
        "    (\"system\", query_rewrite_template),\n",
        "    MessagesPlaceholder(variable_name=\"chat_history\"),\n",
        "    (\"user\", \"Followup message: {question}. Rephrased version:\"),\n",
        "])\n",
        "rewrite_chain = query_rewrite_prompt | chat_model | StrOutputParser()"
      ]
    },
    {
      "cell_type": "markdown",
      "metadata": {
        "id": "o4b57rA4nv8z"
      },
      "source": [
        "#### Graph"
      ]
    },
    {
      "cell_type": "code",
      "execution_count": 31,
      "metadata": {
        "id": "oYtNd_wlmE98"
      },
      "outputs": [],
      "source": [
        "@tool\n",
        "def get_relevant_docs_tool(query: str) -> list:\n",
        "  \"\"\"Utilize this function if user asks any questions related to climate change, recipes and LLMs terminology.\n",
        "  This tool searches and return information about recipes, LLM terminology and climate change.\n",
        "  For all user questions, utlize this tool to get relevant sources for answering user query.\n",
        "  Args:\n",
        "      query: The exact question asked by the user without any modifications\n",
        "  \"\"\"\n",
        "  print(\"---CALL RETRIEVER--\")\n",
        "  collection_name = \"pdfrag\"\n",
        "  relevant_docs = get_relevant_docs(collection_name=collection_name,\n",
        "                                    query=query)\n",
        "  # reranking logic etc can be added\n",
        "\n",
        "  return relevant_docs"
      ]
    },
    {
      "cell_type": "code",
      "execution_count": 32,
      "metadata": {
        "id": "MUP7g2ZtmE6v"
      },
      "outputs": [],
      "source": [
        "tools = [get_relevant_docs_tool]"
      ]
    },
    {
      "cell_type": "code",
      "execution_count": 33,
      "metadata": {
        "id": "1w_jS4bBmE4q"
      },
      "outputs": [],
      "source": [
        "class AgentState(TypedDict):\n",
        "\n",
        "  messages: Annotated[Sequence[BaseMessage], add_messages]\n",
        "  chat_messages: Annotated[Sequence[BaseMessage], add_messages]\n",
        "  chat_history: Sequence[BaseMessage]\n",
        "  relevant_docs: List\n",
        "  tool_call: dict\n",
        "  bot_response: str\n",
        "  rewritten_query: str"
      ]
    },
    {
      "cell_type": "code",
      "execution_count": 34,
      "metadata": {
        "id": "WHDqrhHUmE2D"
      },
      "outputs": [],
      "source": [
        "def router(state):\n",
        "  \"\"\"Call router to decide which tool to user\"\"\"\n",
        "\n",
        "  print(\"---CALL ROUTER---\")\n",
        "\n",
        "  messages = state[\"messages\"]\n",
        "  chat_history = state[\"chat_history\"]\n",
        "  user_query = messages[0].content\n",
        "\n",
        "  model_with_tools = chat_model.bind_tools(tools)\n",
        "\n",
        "  router_chain = router_prompt | model_with_tools\n",
        "\n",
        "  response = router_chain.invoke({\n",
        "      \"chat_history\": chat_history,\n",
        "      \"user_query\": user_query\n",
        "  })\n",
        "\n",
        "  return {\n",
        "      \"messages\": [response],\n",
        "      \"chat_messages\": messages,\n",
        "      \"tool_call\": response.tool_calls,\n",
        "      \"rewritten_query\": state[\"rewritten_query\"]\n",
        "  }"
      ]
    },
    {
      "cell_type": "code",
      "execution_count": 35,
      "metadata": {
        "id": "GbeKMcASnQNo"
      },
      "outputs": [],
      "source": [
        "def tool_check_condition(state):\n",
        "  print(\"---CHECK TOOL CALL---\")\n",
        "  print(state[\"tool_call\"])\n",
        "\n",
        "  if state.get(\"tool_call\"):\n",
        "    for tool_call in state.get(\"tool_call\"):\n",
        "      if tool_call.get(\"name\") == \"get_relevant_docs_tool\":\n",
        "        return \"retrieve_tool\"\n",
        "      elif tool_call.get(\"name\") == \"other_tool\":\n",
        "        #should modify graph accordingly\n",
        "        return \"other_tool\"\n",
        "  else:\n",
        "    return \"chit_chat\""
      ]
    },
    {
      "cell_type": "code",
      "execution_count": 36,
      "metadata": {
        "id": "gQFb1InomEz2"
      },
      "outputs": [],
      "source": [
        "def rewrite(state):\n",
        "  \"\"\"Rewrite query\"\"\"\n",
        "\n",
        "  print(\"---CALL REWRITE---\")\n",
        "\n",
        "  messages = state[\"messages\"]\n",
        "  user_query = messages[0].content\n",
        "  rewritten_query = \"\"\n",
        "  chat_history = state[\"chat_history\"]\n",
        "\n",
        "  if chat_history:\n",
        "    print(\"---REWRITING USING HISTORY---\")\n",
        "    rewritten_query = rewrite_chain.invoke({\n",
        "        \"chat_history\": chat_history,\n",
        "        \"question\": user_query\n",
        "    })\n",
        "    print(\"---REWRITTEN QUERY---\")\n",
        "    print(rewritten_query)\n",
        "\n",
        "    return {\n",
        "        \"rewritten_query\": rewritten_query\n",
        "    }\n",
        "  else:\n",
        "    print(\"-HISTORY NOT FOUND-\")\n",
        "    return {\n",
        "        \"rewritten_query\": \"\"\n",
        "    }"
      ]
    },
    {
      "cell_type": "code",
      "execution_count": 37,
      "metadata": {
        "id": "3dT14I1fjYAz"
      },
      "outputs": [],
      "source": [
        "def chit_chat(state):\n",
        "  \"\"\"Handle chit chat\"\"\"\n",
        "\n",
        "  print(\"---CALL CHITCHAT---\")\n",
        "  messages = state[\"messages\"]\n",
        "  chat_history = state.get(\"chat_history\")\n",
        "\n",
        "  user_query = messages[0].content\n",
        "  print(\"---QUERY---\", user_query)\n",
        "  rewritten_query = state.get(\"rewritten_query\")\n",
        "  if rewritten_query:\n",
        "    print(\"---USING REWRITTEN QUERY---\", rewritten_query)\n",
        "    user_query = rewritten_query\n",
        "\n",
        "  response = chitchat_chain.invoke({\n",
        "      \"chat_history\": chat_history,\n",
        "      \"user_query\": user_query\n",
        "  })\n",
        "\n",
        "  print(response)\n",
        "\n",
        "  return {\n",
        "      \"messages\": [AIMessage(content=response)],\n",
        "      \"chat_messages\": [AIMessage(content=response)],\n",
        "      \"bot_response\": response,\n",
        "      \"rewritten_query\": rewritten_query\n",
        "  }"
      ]
    },
    {
      "cell_type": "code",
      "execution_count": 38,
      "metadata": {
        "id": "9FU1baZxm0pI"
      },
      "outputs": [],
      "source": [
        "def generate(state):\n",
        "  \"\"\"Generate response to user query based on retrieved sources\"\"\"\n",
        "\n",
        "  print(\"---CALL GENERATE---\")\n",
        "  messages = state[\"messages\"]\n",
        "  chat_history = state.get(\"chat_history\")\n",
        "  tool_response = json.loads(messages[-1].content)\n",
        "\n",
        "  user_query = messages[0].content\n",
        "  print(\"---QUERY---\", user_query)\n",
        "  rewritten_query = state.get(\"rewritten_query\")\n",
        "  if rewritten_query:\n",
        "    print(\"---USING REWRITTEN QUERY---\", rewritten_query)\n",
        "    user_query = rewritten_query\n",
        "\n",
        "  sources = format_sources(tool_response)\n",
        "\n",
        "  response = rag_chain.invoke({\n",
        "      \"sources\": sources,\n",
        "      \"user_query\": user_query,\n",
        "      \"chat_history\": chat_history\n",
        "  })\n",
        "\n",
        "  print(response)\n",
        "\n",
        "  return {\n",
        "      \"messages\": [AIMessage(content=response)],\n",
        "      \"chat_messages\": [AIMessage(content=response)],\n",
        "      \"relevant_docs\": format_citations(tool_response),\n",
        "      \"bot_response\": response,\n",
        "      \"rewritten_query\": rewritten_query\n",
        "  }"
      ]
    },
    {
      "cell_type": "code",
      "execution_count": 39,
      "metadata": {
        "colab": {
          "base_uri": "https://localhost:8080/"
        },
        "id": "27BIfiLtm0bD",
        "outputId": "1b67efb4-74bc-43df-b7ac-1678ba0c5988"
      },
      "outputs": [
        {
          "data": {
            "text/plain": [
              "<langgraph.graph.state.StateGraph at 0x7d90c55be810>"
            ]
          },
          "execution_count": 39,
          "metadata": {},
          "output_type": "execute_result"
        }
      ],
      "source": [
        "workflow = StateGraph(AgentState)\n",
        "\n",
        "workflow.add_node(\"router\", router)\n",
        "retriever = ToolNode([get_relevant_docs_tool])\n",
        "workflow.add_node(\"retriever\", retriever)\n",
        "workflow.add_node(\"rewrite\",rewrite)\n",
        "workflow.add_node(\"generate\", generate)\n",
        "workflow.add_node(\"chit_chat\",chit_chat)\n",
        "\n",
        "workflow.add_edge(START, \"rewrite\")\n",
        "workflow.add_edge(\"rewrite\", \"router\")\n",
        "workflow.add_conditional_edges(\n",
        "    \"router\",\n",
        "    tool_check_condition,\n",
        "    {\n",
        "        \"retrieve_tool\": \"retriever\",\n",
        "        \"chit_chat\": \"chit_chat\"\n",
        "    }\n",
        "\n",
        ")\n",
        "workflow.add_edge(\"retriever\", \"generate\")\n",
        "workflow.add_edge(\"generate\", END)\n",
        "workflow.add_edge(\"chit_chat\", END)"
      ]
    },
    {
      "cell_type": "code",
      "execution_count": 40,
      "metadata": {
        "colab": {
          "base_uri": "https://localhost:8080/",
          "height": 919
        },
        "id": "xAngqIABm0Xf",
        "outputId": "ecbd8b1c-b518-4e24-8299-9d76497fe089"
      },
      "outputs": [
        {
          "name": "stdout",
          "output_type": "stream",
          "text": [
            "%%{init: {'flowchart': {'curve': 'linear'}}}%%\n",
            "graph TD;\n",
            "\t__start__([<p>__start__</p>]):::first\n",
            "\trouter(router)\n",
            "\tretriever(retriever)\n",
            "\trewrite(rewrite)\n",
            "\tgenerate(generate)\n",
            "\tchit_chat(chit_chat)\n",
            "\t__end__([<p>__end__</p>]):::last\n",
            "\t__start__ --> rewrite;\n",
            "\tchit_chat --> __end__;\n",
            "\tgenerate --> __end__;\n",
            "\tretriever --> generate;\n",
            "\trewrite --> router;\n",
            "\trouter -. &nbsp;retrieve_tool&nbsp; .-> retriever;\n",
            "\trouter -.-> chit_chat;\n",
            "\tclassDef default fill:#f2f0ff,line-height:1.2\n",
            "\tclassDef first fill-opacity:0\n",
            "\tclassDef last fill:#bfb6fc\n",
            "\n"
          ]
        },
        {
          "data": {
            "image/png": "[encoded data removed]",
            "text/plain": [
              "<IPython.core.display.Image object>"
            ]
          },
          "execution_count": 40,
          "metadata": {},
          "output_type": "execute_result"
        }
      ],
      "source": [
        "graph = workflow.compile()\n",
        "print(graph.get_graph().draw_mermaid())\n",
        "Image(graph.get_graph().draw_mermaid_png())"
      ]
    },
    {
      "cell_type": "code",
      "execution_count": 41,
      "metadata": {
        "id": "23OXB2wxm0U-"
      },
      "outputs": [],
      "source": [
        "def chat_session(query, chat_history):\n",
        "  user_input = {\n",
        "      \"messages\": [\n",
        "          (\"user\", query)\n",
        "      ],\n",
        "      \"chat_history\": chat_history\n",
        "  }\n",
        "\n",
        "  graph_response = graph.invoke(user_input)\n",
        "\n",
        "  return graph_response.get(\"bot_response\"), graph_response.get(\"chat_messages\")"
      ]
    },
    {
      "cell_type": "code",
      "execution_count": 42,
      "metadata": {
        "colab": {
          "base_uri": "https://localhost:8080/"
        },
        "id": "SXZOdf_QnZpP",
        "outputId": "0279c66d-8eca-4f54-e392-1f28aca804c5"
      },
      "outputs": [
        {
          "name": "stdout",
          "output_type": "stream",
          "text": [
            "---CALL REWRITE---\n",
            "-HISTORY NOT FOUND-\n",
            "---CALL ROUTER---\n",
            "---CHECK TOOL CALL---\n",
            "[]\n",
            "---CALL CHITCHAT---\n",
            "---QUERY--- Hi\n",
            "Hi there! It's nice to chat with you. How can I help you today?\n"
          ]
        }
      ],
      "source": [
        "response, history_0 = chat_session(\"Hi\", [])"
      ]
    },
    {
      "cell_type": "code",
      "execution_count": 43,
      "metadata": {
        "colab": {
          "base_uri": "https://localhost:8080/"
        },
        "id": "3FOT5yT1nZly",
        "outputId": "4bd64c4e-61ef-4bb0-cb8c-a3c21577390f"
      },
      "outputs": [
        {
          "name": "stdout",
          "output_type": "stream",
          "text": [
            "---CALL REWRITE---\n",
            "---REWRITING USING HISTORY---\n",
            "---REWRITTEN QUERY---\n",
            "How do I make chili con carne?\n",
            "---CALL ROUTER---\n",
            "---CHECK TOOL CALL---\n",
            "[{'name': 'get_relevant_docs_tool', 'args': {'query': 'chili con carne recipe'}, 'id': '777f311b-4904-4610-a351-f3b775902e19', 'type': 'tool_call'}]\n",
            "---CALL RETRIEVER--\n",
            "Retrieved in 0.003944s.\n",
            "---CALL GENERATE---\n",
            "---QUERY--- How do i make a chili con carne?\n",
            "---USING REWRITTEN QUERY--- How do I make chili con carne?\n",
            "Okay! Here are the ingredients and directions for making Chili con Carne:\n",
            "\n",
            "Ingredients:\n",
            "- Ground/minced beef 500g\n",
            "- 1 Large onion chopped\n",
            "- 2-3 Cloves of Garlic\n",
            "- 1-2 Tins of chopped tomatoes 400g\n",
            "- Squeeze of tomato puree\n",
            "- 1 teaspoon of chilli powder (or to taste)\n",
            "- 1 teaspoon of ground cumin\n",
            "- dash of Worcester sauce\n",
            "- Sprinkle of salt and pepper\n",
            "- 1 Chopped red pepper\n",
            "- 1 tin of drained kidney beans 400g\n",
            "\n",
            "Method:\n",
            "1) Fry the onion in a hot pan with oil until nearly brown then add chopped garlic\n",
            "2) Add the mince and stir until brown - drain any excess fat if desired\n",
            "3) Add all dried spices and seasoning then reduce heat and add chopped tomatoes\n",
            "4) Stir well and add tomato puree and worcester sauce then leave to simmer for about an hour (less if you’re in a rush)\n",
            "5) Add the chopped red pepper and continue to simmer for 5 mins, then add the tin of drained kidney beans and cook for a further 5 mins. If the chilli become to dry at any point just add a bit of water.\n",
            "Serve with rice, jacket potatoes or pasta!\n"
          ]
        }
      ],
      "source": [
        "followup_response, history_1 = chat_session(\"How do i make a chili con carne?\", history_0)"
      ]
    },
    {
      "cell_type": "code",
      "execution_count": 44,
      "metadata": {
        "colab": {
          "base_uri": "https://localhost:8080/"
        },
        "id": "r6SxL-HDnZjU",
        "outputId": "32d8948e-4a3a-4f32-cc65-f0a82e3e81ac"
      },
      "outputs": [
        {
          "name": "stdout",
          "output_type": "stream",
          "text": [
            "---CALL REWRITE---\n",
            "---REWRITING USING HISTORY---\n",
            "---REWRITTEN QUERY---\n",
            "How do I make a carbonara?\n",
            "---CALL ROUTER---\n",
            "---CHECK TOOL CALL---\n",
            "[{'name': 'get_relevant_docs_tool', 'args': {'query': 'how to make carbonara'}, 'id': '7d9d416b-ac38-43de-9343-123e5879363c', 'type': 'tool_call'}]\n",
            "---CALL RETRIEVER--\n",
            "Retrieved in 0.005196s.\n",
            "---CALL GENERATE---\n",
            "---QUERY--- Can you tell me how to make a carbonara\n",
            "---USING REWRITTEN QUERY--- How do I make a carbonara?\n",
            "To make Carbonara al funghi, you will need the following ingredients:\n",
            "\n",
            "- 4 x rashers streaky bacon, chopped\n",
            "- 10g dried porcini mushrooms\n",
            "- 4x closed cup mushrooms (25g each), thinly sliced\n",
            "- 90g of value spaghetti\n",
            "- 1 egg, beaten\n",
            "- 30g of Parmesan cheese, grated\n",
            "- 2 tsp olive oil\n",
            "- 1/2 x small garlic clove, finely chopped\n",
            "\n",
            "Follow these steps:\n",
            "1. Soak the porcini mushrooms in hot water for 20 minutes. Drain, chop and set aside.\n",
            "2. Mix the beaten egg and two thirds of the Parmesan cheese in a large bowl to make the Carbonara sauce. Season with salt and pepper.\n",
            "3. Cook the spaghetti according to the packet instructions.\n",
            "4. Meanwhile, heat the oil in a frying pan and fry the bacon for 3 minutes. Add the fresh mushrooms, porcini mushrooms and garlic and cook for a further 3-4 minutes, stirring frequently.\n",
            "5. Drain the spaghetti, reserving 1tbsp of the cooking water. Immediately add the pasta to the Carbonara sauce as well as the reserved cooking water, bacon and mushrooms. Toss it all together with two forks. Serve immediately topped with the remaining Parmesan cheese.\n"
          ]
        }
      ],
      "source": [
        "followup_response, history_2 = chat_session(\"Can you tell me how to make a carbonara\", history_0+history_1)"
      ]
    },
    {
      "cell_type": "code",
      "execution_count": 45,
      "metadata": {
        "colab": {
          "base_uri": "https://localhost:8080/"
        },
        "id": "3E1ZMbbii1ZN",
        "outputId": "a6caa9f4-5eff-478f-f704-7be9f90f41ed"
      },
      "outputs": [
        {
          "name": "stdout",
          "output_type": "stream",
          "text": [
            "---CALL REWRITE---\n",
            "---REWRITING USING HISTORY---\n",
            "---REWRITTEN QUERY---\n",
            "What ingredients are common between the chili con carne recipe you provided earlier and the carbonara recipe you provided earlier?\n",
            "---CALL ROUTER---\n",
            "---CHECK TOOL CALL---\n",
            "[]\n",
            "---CALL CHITCHAT---\n",
            "---QUERY--- Are there any common ingredients between the recipes?\n",
            "---USING REWRITTEN QUERY--- What ingredients are common between the chili con carne recipe you provided earlier and the carbonara recipe you provided earlier?\n",
            "Okay, let's compare the ingredients of the Chili con Carne and Carbonara recipes I provided:\n",
            "\n",
            "**Chili con Carne:**\n",
            "\n",
            "*   Ground/minced beef\n",
            "*   Onion\n",
            "*   Garlic\n",
            "*   Chopped tomatoes\n",
            "*   Tomato puree\n",
            "*   Chili powder\n",
            "*   Ground cumin\n",
            "*   Worcester sauce\n",
            "*   Salt and pepper\n",
            "*   Red pepper\n",
            "*   Kidney beans\n",
            "\n",
            "**Carbonara:**\n",
            "\n",
            "*   Streaky bacon\n",
            "*   Dried porcini mushrooms\n",
            "*   Closed cup mushrooms\n",
            "*   Spaghetti\n",
            "*   Egg\n",
            "*   Parmesan cheese\n",
            "*   Olive oil\n",
            "*   Garlic\n",
            "\n",
            "**Common Ingredients:**\n",
            "\n",
            "*   **Garlic**\n",
            "*   **Salt and pepper** (These are very common in most recipes)\n",
            "\n",
            "So, the main ingredient that both recipes share is garlic.\n"
          ]
        }
      ],
      "source": [
        "followup_response, history_3 = chat_session(\"Are there any common ingredients between the recipes?\", history_0+history_1+history_2)"
      ]
    },
    {
      "cell_type": "code",
      "execution_count": 46,
      "metadata": {
        "colab": {
          "base_uri": "https://localhost:8080/"
        },
        "id": "1NKx5W0hojgj",
        "outputId": "09c21080-8391-4d80-c252-46a0ac636fdf"
      },
      "outputs": [
        {
          "name": "stdout",
          "output_type": "stream",
          "text": [
            "---CALL REWRITE---\n",
            "---REWRITING USING HISTORY---\n",
            "---REWRITTEN QUERY---\n",
            "Ok, thanks for that.\n",
            "---CALL ROUTER---\n",
            "---CHECK TOOL CALL---\n",
            "[]\n",
            "---CALL CHITCHAT---\n",
            "---QUERY--- Ok, thanks for that.\n",
            "---USING REWRITTEN QUERY--- Ok, thanks for that.\n",
            "You're welcome! I'm glad I could help. Is there anything else I can assist you with today?\n"
          ]
        }
      ],
      "source": [
        "followup_response, history_4 = chat_session(\"Ok, thanks for that.\", history_0+history_1+history_2+history_3)"
      ]
    },
    {
      "cell_type": "markdown",
      "metadata": {
        "id": "jC6ILMCWnmgJ"
      },
      "source": [
        "#### Stream"
      ]
    },
    {
      "cell_type": "code",
      "execution_count": 47,
      "metadata": {
        "id": "6JRMlxqqnj67"
      },
      "outputs": [],
      "source": [
        "def chat_session_stream(query, chat_history):\n",
        "    user_input = {\n",
        "        \"messages\": [\n",
        "            (\"user\", query)\n",
        "        ],\n",
        "        \"chat_history\": chat_history\n",
        "    }\n",
        "\n",
        "    graph_response = graph.stream(user_input, stream_mode=\"messages\")\n",
        "    for message_chunk, langgraph_data in graph_response:\n",
        "        print(\"--STREAM--\")\n",
        "        if langgraph_data[\"langgraph_node\"] == \"generate\":\n",
        "            yield(message_chunk.content)\n",
        "\n",
        "    return \"\", \"\""
      ]
    },
    {
      "cell_type": "code",
      "execution_count": 48,
      "metadata": {
        "colab": {
          "base_uri": "https://localhost:8080/"
        },
        "id": "AMzhiPDunj3Y",
        "outputId": "22283794-40f6-40eb-9e07-225415446e5e"
      },
      "outputs": [
        {
          "name": "stdout",
          "output_type": "stream",
          "text": [
            "---CALL REWRITE---\n",
            "-HISTORY NOT FOUND-\n",
            "---CALL ROUTER---\n",
            "--STREAM--\n",
            "---CHECK TOOL CALL---\n",
            "[{'name': 'get_relevant_docs_tool', 'args': {'query': 'How do i make a chili con carne?'}, 'id': '7844b561-c265-46d9-9edb-e5ab99697dd9', 'type': 'tool_call'}]\n",
            "---CALL RETRIEVER--\n",
            "Retrieved in 0.015896s.\n",
            "--STREAM--\n",
            "---CALL GENERATE---\n",
            "---QUERY--- How do i make a chili con carne?\n",
            "--STREAM--\n",
            "To\n",
            "--STREAM--\n",
            " make Chilli con Carne, you need ground/minced beef, large onion, garlic\n",
            "--STREAM--\n",
            " cloves, chopped tomatoes, tomato puree, chilli powder, ground cumin, Worcester sauce,\n",
            "--STREAM--\n",
            " salt, pepper, chopped red pepper, and drained kidney beans. Fry the onion and garlic, add the mince until brown, drain any excess fat, add dried spices and\n",
            "--STREAM--\n",
            " seasoning, reduce heat, add chopped tomatoes, stir in tomato puree and Worcester sauce, and simmer. Add the chopped red pepper, simmer, add kidney beans, and\n",
            "--STREAM--\n",
            " cook. Serve with rice, jacket potatoes, or pasta.\n",
            "To make Chilli con Carne, you need ground/minced beef, large onion, garlic cloves, chopped tomatoes, tomato puree, chilli powder, ground cumin, Worcester sauce, salt, pepper, chopped red pepper, and drained kidney beans. Fry the onion and garlic, add the mince until brown, drain any excess fat, add dried spices and seasoning, reduce heat, add chopped tomatoes, stir in tomato puree and Worcester sauce, and simmer. Add the chopped red pepper, simmer, add kidney beans, and cook. Serve with rice, jacket potatoes, or pasta.\n",
            "--STREAM--\n",
            "To make Chilli con Carne, you need ground/minced beef, large onion, garlic cloves, chopped tomatoes, tomato puree, chilli powder, ground cumin, Worcester sauce, salt, pepper, chopped red pepper, and drained kidney beans. Fry the onion and garlic, add the mince until brown, drain any excess fat, add dried spices and seasoning, reduce heat, add chopped tomatoes, stir in tomato puree and Worcester sauce, and simmer. Add the chopped red pepper, simmer, add kidney beans, and cook. Serve with rice, jacket potatoes, or pasta.\n",
            "--STREAM--\n",
            "To make Chilli con Carne, you need ground/minced beef, large onion, garlic cloves, chopped tomatoes, tomato puree, chilli powder, ground cumin, Worcester sauce, salt, pepper, chopped red pepper, and drained kidney beans. Fry the onion and garlic, add the mince until brown, drain any excess fat, add dried spices and seasoning, reduce heat, add chopped tomatoes, stir in tomato puree and Worcester sauce, and simmer. Add the chopped red pepper, simmer, add kidney beans, and cook. Serve with rice, jacket potatoes, or pasta.\n"
          ]
        }
      ],
      "source": [
        "response = chat_session_stream(\"How do i make a chili con carne?\", [])\n",
        "for chunk in response:\n",
        "    print(chunk)"
      ]
    }
  ],
  "metadata": {
    "colab": {
      "collapsed_sections": [
        "WsC0SbfTezgE",
        "ognLVOY5hNv6",
        "-sI6D1D-e14m",
        "C8C0jrH5fJPA",
        "WC4p_C7jPkpU",
        "-hSIWMP2Pm3n",
        "a422iax-Pqx4"
      ],
      "provenance": [],
      "toc_visible": true
    },
    "kernelspec": {
      "display_name": "Python 3",
      "name": "python3"
    },
    "language_info": {
      "name": "python"
    }
  },
  "nbformat": 4,
  "nbformat_minor": 0
}
